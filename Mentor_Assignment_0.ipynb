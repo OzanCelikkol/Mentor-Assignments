{
 "cells": [
  {
   "cell_type": "code",
   "execution_count": 16,
   "metadata": {},
   "outputs": [
    {
     "name": "stdout",
     "output_type": "stream",
     "text": [
      "The initial list:  [1, 2, 3, 1, 1, 2]\n",
      "Numbers in the list:  [1 2 3]\n",
      "Number: 1 --- Count: 3\n",
      "Number: 2 --- Count: 2\n",
      "Number: 3 --- Count: 1\n"
     ]
    }
   ],
   "source": [
    "import numpy as np\n",
    "import pandas as pd\n",
    "\n",
    "numbersList = [1, 2, 3, 1, 1, 2]\n",
    "uniqueList = np.unique(numbersList)\n",
    "uniqueList = np.sort(uniqueList)\n",
    "print(\"The initial list: \", numbersList)\n",
    "print(\"Numbers in the list: \", uniqueList)\n",
    "for x in uniqueList:\n",
    "    count = 0\n",
    "    for y in range(len(numbersList)):\n",
    "        if x == numbersList[y]:\n",
    "            count = count + 1\n",
    "    print(\"Number: {} --- Count: {}\".format(x, count))"
   ]
  }
 ],
 "metadata": {
  "kernelspec": {
   "display_name": "Python 3",
   "language": "python",
   "name": "python3"
  },
  "language_info": {
   "codemirror_mode": {
    "name": "ipython",
    "version": 3
   },
   "file_extension": ".py",
   "mimetype": "text/x-python",
   "name": "python",
   "nbconvert_exporter": "python",
   "pygments_lexer": "ipython3",
   "version": "3.8.3"
  }
 },
 "nbformat": 4,
 "nbformat_minor": 4
}
