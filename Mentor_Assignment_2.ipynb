{
 "cells": [
  {
   "cell_type": "code",
   "execution_count": 36,
   "metadata": {},
   "outputs": [
    {
     "name": "stdout",
     "output_type": "stream",
     "text": [
      "Please enter a number: 9\n",
      "21\n"
     ]
    }
   ],
   "source": [
    "def fibonacci(x):\n",
    "    if x == 0:\n",
    "        return 0\n",
    "    elif x <= 2:\n",
    "        return 1\n",
    "    else:\n",
    "        return fibonacci(x - 1) + fibonacci(x - 2)\n",
    "\n",
    "sayi = input(\"Please enter a number: \")\n",
    "sayi = int(sayi)\n",
    "print(fibonacci(sayi - 1))"
   ]
  },
  {
   "cell_type": "code",
   "execution_count": 61,
   "metadata": {
    "scrolled": false
   },
   "outputs": [
    {
     "name": "stdout",
     "output_type": "stream",
     "text": [
      "<class 'list'>\n",
      "80.0\n"
     ]
    }
   ],
   "source": [
    "import pandas as pd\n",
    "\n",
    "def findMax (dfAge):\n",
    "    if len(dfAge) == 1:\n",
    "        return dfAge[0]\n",
    "    else:\n",
    "        if dfAge[0] < dfAge[1]:\n",
    "            dfAge.pop(0)\n",
    "            return findMax(dfAge)\n",
    "        elif dfAge[0] == dfAge[1]:\n",
    "            dfAge.pop(1)\n",
    "            return findMax(dfAge)\n",
    "        elif dfAge[0] > dfAge[1]:\n",
    "            dfAge.pop(1)\n",
    "            return findMax(dfAge)\n",
    "\n",
    "df = pd.read_csv(r\"C:\\Users\\Kleerys\\Desktop\\Career\\1.1-Python\\1.1-DataSets\\train.csv\")\n",
    "dfAge = df.Age\n",
    "dfAge.fillna(dfAge.mean(), inplace = True)\n",
    "dfAge = list(dfAge)\n",
    "print(type(dfAge))\n",
    "print(findMax(dfAge))"
   ]
  }
 ],
 "metadata": {
  "kernelspec": {
   "display_name": "Python 3",
   "language": "python",
   "name": "python3"
  },
  "language_info": {
   "codemirror_mode": {
    "name": "ipython",
    "version": 3
   },
   "file_extension": ".py",
   "mimetype": "text/x-python",
   "name": "python",
   "nbconvert_exporter": "python",
   "pygments_lexer": "ipython3",
   "version": "3.8.3"
  }
 },
 "nbformat": 4,
 "nbformat_minor": 4
}
